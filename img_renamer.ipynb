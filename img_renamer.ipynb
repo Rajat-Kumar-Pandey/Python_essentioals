{
  "nbformat": 4,
  "nbformat_minor": 0,
  "metadata": {
    "colab": {
      "provenance": [],
      "authorship_tag": "ABX9TyMCKKlBk/E6h/QoTNKq6gil",
      "include_colab_link": true
    },
    "kernelspec": {
      "name": "python3",
      "display_name": "Python 3"
    },
    "language_info": {
      "name": "python"
    }
  },
  "cells": [
    {
      "cell_type": "markdown",
      "metadata": {
        "id": "view-in-github",
        "colab_type": "text"
      },
      "source": [
        "<a href=\"https://colab.research.google.com/github/Rajat-Kumar-Pandey/Python_essentioals/blob/main/img_renamer.ipynb\" target=\"_parent\"><img src=\"https://colab.research.google.com/assets/colab-badge.svg\" alt=\"Open In Colab\"/></a>"
      ]
    },
    {
      "cell_type": "code",
      "execution_count": null,
      "metadata": {
        "id": "j8OpEw92fuzi"
      },
      "outputs": [],
      "source": [
        "import os\n",
        "import shutil\n",
        "# Define source and destination paths\n",
        "source_folder = r\"C:\\Users\\Admin\\Desktop\\drowssiness\\f_non_drowsy\"\n",
        "destination_folder = r\"C:\\Users\\Admin\\Desktop\\Requirements\\churn_moddelling\\Drowssinness data-20241217T064009Z-001\\Drowssinness data\\ff_non_drowsy\"\n",
        "\n",
        "# Ensure the source folder exists\n",
        "if not os.path.exists(source_folder):\n",
        "    print(\"Error: Source folder does not exist.\")\n",
        "    exit()\n",
        "\n",
        "# Create the destination folder if it doesn't exist\n",
        "if not os.path.exists(destination_folder):\n",
        "    os.makedirs(destination_folder)\n",
        "    print(f\"Destination folder created: {destination_folder}\")\n",
        "\n",
        "# Initialize counter for renaming\n",
        "counter = 2994\n",
        "\n",
        "# Supported image file extensions\n",
        "image_extensions = (\".jpg\", \".jpeg\", \".png\", \".bmp\", \".tiff\", \".gif\")\n",
        "\n",
        "# Process files in the source folder\n",
        "for filename in os.listdir(source_folder):\n",
        "    file_path = os.path.join(source_folder, filename)\n",
        "\n",
        "    # Check if it's an image file\n",
        "    if os.path.isfile(file_path) and filename.lower().endswith(image_extensions):\n",
        "        print(f\"Processing: {filename}\")  # Debug output\n",
        "\n",
        "        # Create new file name\n",
        "        new_filename = f\"non_drowsy_{counter}.jpg\"\n",
        "        new_file_path = os.path.join(destination_folder, new_filename)\n",
        "\n",
        "        # Move and rename the file\n",
        "        shutil.move(file_path, new_file_path)\n",
        "        print(f\"Renamed and moved: {filename} -> {new_filename}\")\n",
        "\n",
        "        # Increment the counter\n",
        "        counter += 1\n",
        "\n",
        "# Final message\n",
        "print(f\"All image files have been renamed and moved to: {destination_folder}\")\n"
      ]
    }
  ]
}